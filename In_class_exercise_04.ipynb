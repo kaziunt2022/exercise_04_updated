{
  "cells": [
    {
      "cell_type": "markdown",
      "metadata": {
        "id": "au5jSlheHJOi"
      },
      "source": [
        "# **The seventh in-class-exercise (40 points in total, 10/20/2021)**"
      ]
    },
    {
      "cell_type": "markdown",
      "metadata": {
        "id": "4YhFHmxfHJO7"
      },
      "source": [
        "Question description: Please use the text corpus you collected in your last in-class-exercise for this exercise. Perform the following tasks:"
      ]
    },
    {
      "cell_type": "markdown",
      "metadata": {
        "id": "35JrxvP5HJO_"
      },
      "source": [
        "## (1) (15 points) Generate K topics by using LDA, the number of topics K should be decided by the coherence score, then summarize what are the topics. You may refer the code here: \n",
        "\n",
        "https://www.machinelearningplus.com/nlp/topic-modeling-gensim-python/"
      ]
    },
    {
      "cell_type": "code",
      "execution_count": 59,
      "metadata": {
        "colab": {
          "base_uri": "https://localhost:8080/"
        },
        "id": "BlMgvPawHJPD",
        "outputId": "99985cef-b9cd-4591-aace-ab7c16f29293"
      },
      "outputs": [
        {
          "name": "stdout",
          "output_type": "stream",
          "text": [
            "Requirement already satisfied: pyLDAvis in /usr/local/lib/python3.7/dist-packages (3.3.1)\n",
            "Requirement already satisfied: funcy in /usr/local/lib/python3.7/dist-packages (from pyLDAvis) (1.16)\n",
            "Requirement already satisfied: jinja2 in /usr/local/lib/python3.7/dist-packages (from pyLDAvis) (2.11.3)\n",
            "Requirement already satisfied: scipy in /usr/local/lib/python3.7/dist-packages (from pyLDAvis) (1.4.1)\n",
            "Requirement already satisfied: sklearn in /usr/local/lib/python3.7/dist-packages (from pyLDAvis) (0.0)\n",
            "Requirement already satisfied: numpy>=1.20.0 in /usr/local/lib/python3.7/dist-packages (from pyLDAvis) (1.21.4)\n",
            "Requirement already satisfied: gensim in /usr/local/lib/python3.7/dist-packages (from pyLDAvis) (3.6.0)\n",
            "Requirement already satisfied: pandas>=1.2.0 in /usr/local/lib/python3.7/dist-packages (from pyLDAvis) (1.3.4)\n",
            "Requirement already satisfied: joblib in /usr/local/lib/python3.7/dist-packages (from pyLDAvis) (1.1.0)\n",
            "Requirement already satisfied: numexpr in /usr/local/lib/python3.7/dist-packages (from pyLDAvis) (2.7.3)\n",
            "Requirement already satisfied: future in /usr/local/lib/python3.7/dist-packages (from pyLDAvis) (0.16.0)\n",
            "Requirement already satisfied: scikit-learn in /usr/local/lib/python3.7/dist-packages (from pyLDAvis) (1.0.1)\n",
            "Requirement already satisfied: setuptools in /usr/local/lib/python3.7/dist-packages (from pyLDAvis) (57.4.0)\n",
            "Requirement already satisfied: pytz>=2017.3 in /usr/local/lib/python3.7/dist-packages (from pandas>=1.2.0->pyLDAvis) (2018.9)\n",
            "Requirement already satisfied: python-dateutil>=2.7.3 in /usr/local/lib/python3.7/dist-packages (from pandas>=1.2.0->pyLDAvis) (2.8.2)\n",
            "Requirement already satisfied: six>=1.5 in /usr/local/lib/python3.7/dist-packages (from python-dateutil>=2.7.3->pandas>=1.2.0->pyLDAvis) (1.15.0)\n",
            "Requirement already satisfied: smart-open>=1.2.1 in /usr/local/lib/python3.7/dist-packages (from gensim->pyLDAvis) (5.2.1)\n",
            "Requirement already satisfied: MarkupSafe>=0.23 in /usr/local/lib/python3.7/dist-packages (from jinja2->pyLDAvis) (2.0.1)\n",
            "Requirement already satisfied: threadpoolctl>=2.0.0 in /usr/local/lib/python3.7/dist-packages (from scikit-learn->pyLDAvis) (3.0.0)\n",
            "Requirement already satisfied: gensim in /usr/local/lib/python3.7/dist-packages (3.6.0)\n",
            "Requirement already satisfied: numpy>=1.11.3 in /usr/local/lib/python3.7/dist-packages (from gensim) (1.21.4)\n",
            "Requirement already satisfied: scipy>=0.18.1 in /usr/local/lib/python3.7/dist-packages (from gensim) (1.4.1)\n",
            "Requirement already satisfied: smart-open>=1.2.1 in /usr/local/lib/python3.7/dist-packages (from gensim) (5.2.1)\n",
            "Requirement already satisfied: six>=1.5.0 in /usr/local/lib/python3.7/dist-packages (from gensim) (1.15.0)\n",
            "Requirement already satisfied: spacy in /usr/local/lib/python3.7/dist-packages (2.2.4)\n",
            "Requirement already satisfied: srsly<1.1.0,>=1.0.2 in /usr/local/lib/python3.7/dist-packages (from spacy) (1.0.5)\n",
            "Requirement already satisfied: preshed<3.1.0,>=3.0.2 in /usr/local/lib/python3.7/dist-packages (from spacy) (3.0.6)\n",
            "Requirement already satisfied: cymem<2.1.0,>=2.0.2 in /usr/local/lib/python3.7/dist-packages (from spacy) (2.0.6)\n",
            "Requirement already satisfied: numpy>=1.15.0 in /usr/local/lib/python3.7/dist-packages (from spacy) (1.21.4)\n",
            "Requirement already satisfied: blis<0.5.0,>=0.4.0 in /usr/local/lib/python3.7/dist-packages (from spacy) (0.4.1)\n",
            "Requirement already satisfied: tqdm<5.0.0,>=4.38.0 in /usr/local/lib/python3.7/dist-packages (from spacy) (4.62.3)\n",
            "Requirement already satisfied: catalogue<1.1.0,>=0.0.7 in /usr/local/lib/python3.7/dist-packages (from spacy) (1.0.0)\n",
            "Requirement already satisfied: plac<1.2.0,>=0.9.6 in /usr/local/lib/python3.7/dist-packages (from spacy) (1.1.3)\n",
            "Requirement already satisfied: requests<3.0.0,>=2.13.0 in /usr/local/lib/python3.7/dist-packages (from spacy) (2.23.0)\n",
            "Requirement already satisfied: murmurhash<1.1.0,>=0.28.0 in /usr/local/lib/python3.7/dist-packages (from spacy) (1.0.6)\n",
            "Requirement already satisfied: thinc==7.4.0 in /usr/local/lib/python3.7/dist-packages (from spacy) (7.4.0)\n",
            "Requirement already satisfied: wasabi<1.1.0,>=0.4.0 in /usr/local/lib/python3.7/dist-packages (from spacy) (0.8.2)\n",
            "Requirement already satisfied: setuptools in /usr/local/lib/python3.7/dist-packages (from spacy) (57.4.0)\n",
            "Requirement already satisfied: importlib-metadata>=0.20 in /usr/local/lib/python3.7/dist-packages (from catalogue<1.1.0,>=0.0.7->spacy) (4.8.2)\n",
            "Requirement already satisfied: zipp>=0.5 in /usr/local/lib/python3.7/dist-packages (from importlib-metadata>=0.20->catalogue<1.1.0,>=0.0.7->spacy) (3.6.0)\n",
            "Requirement already satisfied: typing-extensions>=3.6.4 in /usr/local/lib/python3.7/dist-packages (from importlib-metadata>=0.20->catalogue<1.1.0,>=0.0.7->spacy) (3.10.0.2)\n",
            "Requirement already satisfied: chardet<4,>=3.0.2 in /usr/local/lib/python3.7/dist-packages (from requests<3.0.0,>=2.13.0->spacy) (3.0.4)\n",
            "Requirement already satisfied: urllib3!=1.25.0,!=1.25.1,<1.26,>=1.21.1 in /usr/local/lib/python3.7/dist-packages (from requests<3.0.0,>=2.13.0->spacy) (1.24.3)\n",
            "Requirement already satisfied: idna<3,>=2.5 in /usr/local/lib/python3.7/dist-packages (from requests<3.0.0,>=2.13.0->spacy) (2.10)\n",
            "Requirement already satisfied: certifi>=2017.4.17 in /usr/local/lib/python3.7/dist-packages (from requests<3.0.0,>=2.13.0->spacy) (2021.10.8)\n"
          ]
        }
      ],
      "source": [
        "# Write your code here\n",
        "# Write your code here\n",
        "!pip install pyLDAvis\n",
        "!pip install gensim\n",
        "!pip install spacy\n",
        "\n",
        "import nltk\n",
        "\n",
        "import re\n",
        "import numpy as np\n",
        "import pandas as pd\n",
        "from nltk.corpus import stopwords\n",
        "\n",
        "# Gensim\n",
        "import gensim\n",
        "import gensim.corpora as corpora\n",
        "from gensim.utils import simple_preprocess\n",
        "from gensim.models import CoherenceModel\n",
        "from gensim.models import LsiModel\n",
        "# spacy for lemmatization\n",
        "import spacy\n",
        "\n",
        "from pprint import pprint\n",
        "\n",
        "\n",
        "# Enable logging for gensim - optional\n",
        "import logging\n",
        "logging.basicConfig(format='%(asctime)s : %(levelname)s : %(message)s', level=logging.ERROR)\n",
        "\n",
        "import warnings\n",
        "warnings.filterwarnings(\"ignore\",category=DeprecationWarning)\n",
        "\n",
        "\n",
        "\n",
        "# Setting up nltk\n",
        "# nltk.download('stopwords')\n",
        "\n",
        "\n",
        "stop_words = stopwords.words('english')\n",
        "stop_words.extend(['from', 'subject', 're', 'edu', 'use'])\n"
      ]
    },
    {
      "cell_type": "code",
      "execution_count": 43,
      "metadata": {
        "id": "pTGQA5ijHJPO"
      },
      "outputs": [],
      "source": [
        "df = pd.read_csv(\"https://raw.githubusercontent.com/kaziunt2022/exercise_4/main/Reviews.CSV\") # Import the Reviews.CSV as pandas dataframe\n"
      ]
    },
    {
      "cell_type": "code",
      "execution_count": 44,
      "metadata": {
        "id": "-pwUbWx2HJPR"
      },
      "outputs": [],
      "source": [
        "## Cleaning the reviews\n",
        "data = df.Reviews.values.tolist() # Convert each review to list\n",
        "data = [re.sub('\\s+', ' ', sentence) for sentence in data] # remose the line breakers\n",
        "data = [re.sub(\"\\'\",\" \", sentence) for sentence in data] # remocve the \\'\n",
        "\n",
        "def sent_to_words(reviews):\n",
        "    \"\"\"\n",
        "    Input: sentence--> string\n",
        "    Function: Tokenize the sentence and remove punctuations\n",
        "    Output: tokenize and clean reviews\n",
        "    \"\"\"\n",
        "    sentence = []\n",
        "    for review in reviews:\n",
        "        sentence.append(gensim.utils.simple_preprocess(str(review).encode('utf-8'), deacc=True))  # deacc=True removes punctuations\n",
        "    return sentence\n",
        "tokenize_reviews = list(sent_to_words(data))\n"
      ]
    },
    {
      "cell_type": "code",
      "execution_count": 45,
      "metadata": {
        "colab": {
          "base_uri": "https://localhost:8080/"
        },
        "id": "oUD5Ja63HJPX",
        "outputId": "1b919f15-6759-4b3f-bd2d-bc41a0b0e996"
      },
      "outputs": [
        {
          "name": "stderr",
          "output_type": "stream",
          "text": [
            "/usr/local/lib/python3.7/dist-packages/gensim/models/phrases.py:598: UserWarning: For a faster implementation, use the gensim.models.phrases.Phraser class\n",
            "  warnings.warn(\"For a faster implementation, use the gensim.models.phrases.Phraser class\")\n"
          ]
        }
      ],
      "source": [
        "## bigram and trigam mmodels \n",
        "bigram = gensim.models.Phrases(tokenize_reviews, min_count=5, threshold=100) # creat bigram phrases\n",
        "bigram_model = gensim.models.phrases.Phraser(bigram) # bigram model\n",
        "trigram_model = gensim.models.phrases.Phraser(gensim.models.Phrases(bigram[tokenize_reviews], threshold=100))"
      ]
    },
    {
      "cell_type": "code",
      "execution_count": 46,
      "metadata": {
        "id": "PlIwZ1UJHJPb"
      },
      "outputs": [],
      "source": [
        "# Define functions for stopwords, bigrams, trigrams and lemmatization\n",
        "def remove_stopwords(reviews): \n",
        "    \"\"\"\n",
        "    Input: list of lists of reviews\n",
        "    Func: remove all stopwords\n",
        "    Output: tokenize reviews without stop words\n",
        "    \"\"\"\n",
        "    return [[word for word in simple_preprocess(str(review)) if word not in stop_words] for review in reviews]\n",
        "\n",
        "def make_bigrams(reviews):\n",
        "    \"\"\"\n",
        "    Input: tokenize reviews\n",
        "    Func: make bigrams\n",
        "    Output: bigrams of reviews\n",
        "    \"\"\"\n",
        "    return [bigram_model[review] for review in reviews]\n",
        "\n",
        "def make_trigrams(reviews):\n",
        "    \"\"\"\n",
        "    Input: tokenize reviews\n",
        "    Func: make trigrams\n",
        "    Output: trigrams of bigram reviews\n",
        "    \"\"\"\n",
        "    return [trigram_model[bigram_model[review]] for review in reviews]\n",
        "\n",
        "def lemmatization(reviews, allowed=['NOUN', 'ADJ', 'VERB', 'ADV']):\n",
        "    \"\"\"\n",
        "    Input: tokenize bigram reviews\n",
        "    Func: return only Noun, adj, verb, adverbs\n",
        "    Output: nouns, adj, verb, adv of reviews\n",
        "    \"\"\"\n",
        "    output_reviews= []\n",
        "    for sent in reviews:\n",
        "        review = nlp(\" \".join(sent)) \n",
        "        output_reviews.append([token.lemma_ for token in review if token.pos_ in allowed])\n",
        "    return output_reviews"
      ]
    },
    {
      "cell_type": "code",
      "execution_count": 47,
      "metadata": {
        "id": "ktJwpS2vHJPj"
      },
      "outputs": [],
      "source": [
        "\n",
        "bigrame_reviews = make_bigrams(remove_stopwords(tokenize_reviews)) # take bigram of the Reviews without stopwords\n",
        "\n",
        "nlp = spacy.load('en_core_web_sm', disable=['parser', 'ner']) # initiaize the nlp english model\n",
        "\n",
        "lemmatize_reviews = lemmatization(bigrame_reviews, ['NOUN', 'ADJ', 'VERB', 'ADV']) # nouns, adj, verb, adv of reviews\n"
      ]
    },
    {
      "cell_type": "code",
      "execution_count": 48,
      "metadata": {
        "id": "2eG2JTj-HJPp"
      },
      "outputs": [],
      "source": [
        "\n",
        "id2word = corpora.Dictionary(lemmatize_reviews) # Create Dictionary\n",
        "\n",
        "corpus = [id2word.doc2bow(review) for review in lemmatize_reviews] # freq of words\n"
      ]
    },
    {
      "cell_type": "code",
      "execution_count": 49,
      "metadata": {
        "id": "zbs9gkvgHJPs"
      },
      "outputs": [],
      "source": [
        "# Create LDA model\n",
        "LDA_model = gensim.models.ldamodel.LdaModel(corpus=corpus, id2word=id2word, num_topics=20, random_state=100, update_every=1,\n",
        "                                            chunksize=100, passes=10, alpha='auto', per_word_topics=True)\n",
        "review_lda = LDA_model[corpus]"
      ]
    },
    {
      "cell_type": "code",
      "execution_count": 50,
      "metadata": {
        "colab": {
          "base_uri": "https://localhost:8080/"
        },
        "id": "usN7uWU7HJPu",
        "outputId": "0ceee649-5cb2-4741-ea09-88d301861440"
      },
      "outputs": [
        {
          "name": "stdout",
          "output_type": "stream",
          "text": [
            "Perplexity:  -7.234358997237455\n",
            "Coherence Score:  0.4799173353319075\n"
          ]
        }
      ],
      "source": [
        "print('Perplexity: ', LDA_model.log_perplexity(corpus))  # Compute Perplexity and print it\n",
        "coherence_model_lda = CoherenceModel(model=LDA_model, texts=lemmatize_reviews, dictionary=id2word, coherence='c_v') #initilize coherence model\n",
        "coherence_lda = coherence_model_lda.get_coherence() #get cohernece score\n",
        "print('Coherence Score: ', coherence_lda)"
      ]
    },
    {
      "cell_type": "code",
      "execution_count": 51,
      "metadata": {
        "colab": {
          "base_uri": "https://localhost:8080/",
          "height": 779
        },
        "id": "vgLjv-TLHJPz",
        "outputId": "759f546e-2b1d-49e4-e3c8-5abb971a9502"
      },
      "outputs": [
        {
          "ename": "AttributeError",
          "evalue": "ignored",
          "output_type": "error",
          "traceback": [
            "\u001b[0;31m---------------------------------------------------------------------------\u001b[0m",
            "\u001b[0;31mAttributeError\u001b[0m                            Traceback (most recent call last)",
            "\u001b[0;32m/usr/local/lib/python3.7/dist-packages/IPython/core/formatters.py\u001b[0m in \u001b[0;36m__call__\u001b[0;34m(self, obj)\u001b[0m\n\u001b[1;32m    336\u001b[0m             \u001b[0mmethod\u001b[0m \u001b[0;34m=\u001b[0m \u001b[0mget_real_method\u001b[0m\u001b[0;34m(\u001b[0m\u001b[0mobj\u001b[0m\u001b[0;34m,\u001b[0m \u001b[0mself\u001b[0m\u001b[0;34m.\u001b[0m\u001b[0mprint_method\u001b[0m\u001b[0;34m)\u001b[0m\u001b[0;34m\u001b[0m\u001b[0;34m\u001b[0m\u001b[0m\n\u001b[1;32m    337\u001b[0m             \u001b[0;32mif\u001b[0m \u001b[0mmethod\u001b[0m \u001b[0;32mis\u001b[0m \u001b[0;32mnot\u001b[0m \u001b[0;32mNone\u001b[0m\u001b[0;34m:\u001b[0m\u001b[0;34m\u001b[0m\u001b[0;34m\u001b[0m\u001b[0m\n\u001b[0;32m--> 338\u001b[0;31m                 \u001b[0;32mreturn\u001b[0m \u001b[0mmethod\u001b[0m\u001b[0;34m(\u001b[0m\u001b[0;34m)\u001b[0m\u001b[0;34m\u001b[0m\u001b[0;34m\u001b[0m\u001b[0m\n\u001b[0m\u001b[1;32m    339\u001b[0m             \u001b[0;32mreturn\u001b[0m \u001b[0;32mNone\u001b[0m\u001b[0;34m\u001b[0m\u001b[0;34m\u001b[0m\u001b[0m\n\u001b[1;32m    340\u001b[0m         \u001b[0;32melse\u001b[0m\u001b[0;34m:\u001b[0m\u001b[0;34m\u001b[0m\u001b[0;34m\u001b[0m\u001b[0m\n",
            "\u001b[0;32m/usr/local/lib/python3.7/dist-packages/pandas/core/frame.py\u001b[0m in \u001b[0;36m_repr_html_\u001b[0;34m(self)\u001b[0m\n\u001b[1;32m    796\u001b[0m \u001b[0;34m\u001b[0m\u001b[0m\n\u001b[1;32m    797\u001b[0m     \u001b[0;34m@\u001b[0m\u001b[0mproperty\u001b[0m\u001b[0;34m\u001b[0m\u001b[0;34m\u001b[0m\u001b[0m\n\u001b[0;32m--> 798\u001b[0;31m     \u001b[0;32mdef\u001b[0m \u001b[0mshape\u001b[0m\u001b[0;34m(\u001b[0m\u001b[0mself\u001b[0m\u001b[0;34m)\u001b[0m \u001b[0;34m->\u001b[0m \u001b[0mtuple\u001b[0m\u001b[0;34m[\u001b[0m\u001b[0mint\u001b[0m\u001b[0;34m,\u001b[0m \u001b[0mint\u001b[0m\u001b[0;34m]\u001b[0m\u001b[0;34m:\u001b[0m\u001b[0;34m\u001b[0m\u001b[0;34m\u001b[0m\u001b[0m\n\u001b[0m\u001b[1;32m    799\u001b[0m         \"\"\"\n\u001b[1;32m    800\u001b[0m         \u001b[0mReturn\u001b[0m \u001b[0ma\u001b[0m \u001b[0mtuple\u001b[0m \u001b[0mrepresenting\u001b[0m \u001b[0mthe\u001b[0m \u001b[0mdimensionality\u001b[0m \u001b[0mof\u001b[0m \u001b[0mthe\u001b[0m \u001b[0mDataFrame\u001b[0m\u001b[0;34m.\u001b[0m\u001b[0;34m\u001b[0m\u001b[0;34m\u001b[0m\u001b[0m\n",
            "\u001b[0;32m/usr/local/lib/python3.7/dist-packages/pandas/io/formats/format.py\u001b[0m in \u001b[0;36mto_html\u001b[0;34m(self, buf, encoding, classes, notebook, border)\u001b[0m\n\u001b[1;32m    986\u001b[0m         \u001b[0mencoding\u001b[0m\u001b[0;34m:\u001b[0m \u001b[0mstr\u001b[0m \u001b[0;34m|\u001b[0m \u001b[0;32mNone\u001b[0m \u001b[0;34m=\u001b[0m \u001b[0;32mNone\u001b[0m\u001b[0;34m,\u001b[0m\u001b[0;34m\u001b[0m\u001b[0;34m\u001b[0m\u001b[0m\n\u001b[1;32m    987\u001b[0m         \u001b[0mclasses\u001b[0m\u001b[0;34m:\u001b[0m \u001b[0mstr\u001b[0m \u001b[0;34m|\u001b[0m \u001b[0mlist\u001b[0m \u001b[0;34m|\u001b[0m \u001b[0mtuple\u001b[0m \u001b[0;34m|\u001b[0m \u001b[0;32mNone\u001b[0m \u001b[0;34m=\u001b[0m \u001b[0;32mNone\u001b[0m\u001b[0;34m,\u001b[0m\u001b[0;34m\u001b[0m\u001b[0;34m\u001b[0m\u001b[0m\n\u001b[0;32m--> 988\u001b[0;31m         \u001b[0mnotebook\u001b[0m\u001b[0;34m:\u001b[0m \u001b[0mbool\u001b[0m \u001b[0;34m=\u001b[0m \u001b[0;32mFalse\u001b[0m\u001b[0;34m,\u001b[0m\u001b[0;34m\u001b[0m\u001b[0;34m\u001b[0m\u001b[0m\n\u001b[0m\u001b[1;32m    989\u001b[0m         \u001b[0mborder\u001b[0m\u001b[0;34m:\u001b[0m \u001b[0mint\u001b[0m \u001b[0;34m|\u001b[0m \u001b[0;32mNone\u001b[0m \u001b[0;34m=\u001b[0m \u001b[0;32mNone\u001b[0m\u001b[0;34m,\u001b[0m\u001b[0;34m\u001b[0m\u001b[0;34m\u001b[0m\u001b[0m\n\u001b[1;32m    990\u001b[0m         \u001b[0mtable_id\u001b[0m\u001b[0;34m:\u001b[0m \u001b[0mstr\u001b[0m \u001b[0;34m|\u001b[0m \u001b[0;32mNone\u001b[0m \u001b[0;34m=\u001b[0m \u001b[0;32mNone\u001b[0m\u001b[0;34m,\u001b[0m\u001b[0;34m\u001b[0m\u001b[0;34m\u001b[0m\u001b[0m\n",
            "\u001b[0;31mAttributeError\u001b[0m: 'NotebookFormatter' object has no attribute 'get_result'"
          ]
        },
        {
          "data": {
            "text/plain": [
              "            Topic 01     Topic 02   Topic 03  ...     Topic 08   Topic 09   Topic 10\n",
              "0             honest        major    problem  ...         film       feel  character\n",
              "1           mediocre       effort      learn  ...         well         go       also\n",
              "2             script      combine      woman  ...         plot       make     really\n",
              "3               chop    cinematic     decide  ...    character       even      think\n",
              "4          dangerous    influence       dark  ...       little        see       much\n",
              "5          landscape        score    connect  ...          bit       love      would\n",
              "6              shake        shame   familiar  ...         seem        way      thing\n",
              "7   high_expectation         crew       play  ...      overall      first       like\n",
              "8               crap          let     master  ...         hero  character       main\n",
              "9              brain         spot      other  ...       action      story     pretty\n",
              "10    winter_soldier       review        art  ...       always        lot     moment\n",
              "11       technically         male       soul  ...     sequence    chinese       ring\n",
              "12             stage   everywhere  third_act  ...        quite       come      could\n",
              "13          tiresome        sense      shoot  ...         role       time      place\n",
              "14             slate   attractive       able  ...          add       much      still\n",
              "15           service        favor       save  ...         keep       give       make\n",
              "16         exception       brutal    mention  ...  predictable        end       look\n",
              "17            rather      suprise       beat  ...   especially     people       less\n",
              "18        impossible  consequence   original  ...  interesting        get       cool\n",
              "19              room        upset      cause  ...         many        say  storyline\n",
              "\n",
              "[20 rows x 10 columns]"
            ]
          },
          "execution_count": 51,
          "metadata": {},
          "output_type": "execute_result"
        }
      ],
      "source": [
        "# Check and \n",
        "def get_lda_topics(model, num_topics):\n",
        "    \"\"\"\n",
        "    Input: LDA model, required topics\n",
        "    Func: create a dataframe of topics\n",
        "    Output: Pandas data frame\n",
        "    \"\"\"\n",
        "    word_dict = {}\n",
        "    for i in range(num_topics):\n",
        "        words = model.show_topic(i, topn = 20)\n",
        "        word_dict['Topic ' + '{:02d}'.format(i+1)] = [i[0] for i in words]\n",
        "    return pd.DataFrame(word_dict)\n",
        "\n",
        "get_lda_topics(LDA_model, 10)"
      ]
    },
    {
      "cell_type": "code",
      "execution_count": 52,
      "metadata": {
        "id": "9Sejf4nFHJP2"
      },
      "outputs": [],
      "source": [
        "def compute_coherence_values(dictionary, corpus, texts, limit, start, step):\n",
        "    \"\"\"\n",
        "    Input: \n",
        "    Dictionary of words freq --> dict\n",
        "    corpus of words --> list\n",
        "    reviews --> list\n",
        "    limit --> int\n",
        "    start --> int\n",
        "    step --> int\n",
        "    Func: find the coherence score for each set of topic numbers\n",
        "    Output: \n",
        "    model_list --> list: list of models\n",
        "    coherence_values --> float: score of coherence\n",
        "    \"\"\"\n",
        "    coherence_values = []\n",
        "    model_list = []\n",
        "    for num_topics in range(start, limit, step):\n",
        "        model = gensim.models.LdaModel(corpus=corpus, num_topics=num_topics, id2word=id2word)\n",
        "        model_list.append(model)\n",
        "        coherencemodel = CoherenceModel(model=model, texts=texts, dictionary=dictionary, coherence='c_v')\n",
        "        coherence_values.append(coherencemodel.get_coherence())\n",
        "\n",
        "    return model_list, coherence_values"
      ]
    },
    {
      "cell_type": "code",
      "execution_count": 53,
      "metadata": {
        "id": "8WpEKJLRHJP5"
      },
      "outputs": [],
      "source": [
        "model_list, coherence_values = compute_coherence_values(dictionary=id2word, corpus=corpus, texts=lemmatize_reviews, start=2, limit=60, step=6)"
      ]
    },
    {
      "cell_type": "code",
      "execution_count": 57,
      "metadata": {
        "colab": {
          "base_uri": "https://localhost:8080/",
          "height": 282
        },
        "id": "dlofo1D9ITJq",
        "outputId": "b6d63ad3-5129-4f52-d933-4eaed11cfca8"
      },
      "outputs": [
        {
          "data": {
            "text/plain": [
              "[<matplotlib.lines.Line2D at 0x7fc8370da050>]"
            ]
          },
          "execution_count": 57,
          "metadata": {},
          "output_type": "execute_result"
        },
        {
          "data": {
            "image/png": "[encoded data removed]",
            "text/plain": [
              "<Figure size 432x288 with 1 Axes>"
            ]
          },
          "metadata": {
            "needs_background": "light"
          },
          "output_type": "display_data"
        }
      ],
      "source": [
        "import matplotlib.pyplot as plt\n",
        "plt.plot(coherence_values)"
      ]
    },
    {
      "cell_type": "code",
      "execution_count": 58,
      "metadata": {
        "colab": {
          "base_uri": "https://localhost:8080/"
        },
        "id": "_vcs_9PBHJP6",
        "outputId": "9312dd5b-200f-4bda-e1ea-cab4b952ddd0"
      },
      "outputs": [
        {
          "name": "stdout",
          "output_type": "stream",
          "text": [
            "Topics Number= 2  has Coherence Value of 0.2954\n",
            "Topics Number= 8  has Coherence Value of 0.3087\n",
            "Topics Number= 14  has Coherence Value of 0.3129\n",
            "Topics Number= 20  has Coherence Value of 0.3065\n",
            "Topics Number= 26  has Coherence Value of 0.3105\n",
            "Topics Number= 32  has Coherence Value of 0.304\n",
            "Topics Number= 38  has Coherence Value of 0.308\n",
            "Topics Number= 44  has Coherence Value of 0.3022\n",
            "Topics Number= 50  has Coherence Value of 0.3034\n",
            "Topics Number= 56  has Coherence Value of 0.301\n"
          ]
        }
      ],
      "source": [
        "for model, cv in zip(range(2, 60, 6), coherence_values):\n",
        "    print(\"Topics Number=\", model, \" has Coherence Value of\", round(cv, 4))"
      ]
    },
    {
      "cell_type": "code",
      "execution_count": 60,
      "metadata": {
        "colab": {
          "base_uri": "https://localhost:8080/"
        },
        "id": "fln4ckvrHJP9",
        "outputId": "a531b39c-e0ea-47ec-c0e6-27fca15948b5"
      },
      "outputs": [
        {
          "name": "stdout",
          "output_type": "stream",
          "text": [
            "Maximum value of coherence for ascending order is: 0.3129 AT Topic Number 14\n",
            "\n",
            "[(0,\n",
            "  '0.034*\"final\" + 0.030*\"bore\" + 0.028*\"monster\" + 0.020*\"shot\" + '\n",
            "  '0.017*\"abomination\" + 0.016*\"sadly\" + 0.015*\"dimension\" + 0.014*\"carry\" + '\n",
            "  '0.014*\"group\" + 0.013*\"weapon\"'),\n",
            " (1,\n",
            "  '0.019*\"talk\" + 0.018*\"narrative\" + 0.014*\"feature\" + 0.013*\"combine\" + '\n",
            "  '0.011*\"leave\" + 0.010*\"sequence\" + 0.010*\"highlight\" + 0.009*\"entry\" + '\n",
            "  '0.009*\"remain\" + 0.008*\"nearly\"'),\n",
            " (2,\n",
            "  '0.028*\"problem\" + 0.022*\"usual\" + 0.018*\"woman\" + 0.018*\"learn\" + '\n",
            "  '0.017*\"decide\" + 0.015*\"theme\" + 0.015*\"lack\" + 0.015*\"couple\" + '\n",
            "  '0.015*\"dark\" + 0.014*\"use\"'),\n",
            " (3,\n",
            "  '0.023*\"look\" + 0.022*\"bad\" + 0.018*\"better\" + 0.018*\"try\" + 0.016*\"could\" + '\n",
            "  '0.015*\"point\" + 0.013*\"quite\" + 0.012*\"high\" + 0.012*\"place\" + '\n",
            "  '0.012*\"seem\"'),\n",
            " (4,\n",
            "  '0.023*\"disappointed\" + 0.020*\"kinda\" + 0.019*\"effort\" + 0.019*\"hold\" + '\n",
            "  '0.019*\"hear\" + 0.018*\"somehow\" + 0.017*\"rush\" + 0.016*\"mistake\" + '\n",
            "  '0.016*\"mess\" + 0.016*\"guess\"'),\n",
            " (5,\n",
            "  '0.022*\"mother\" + 0.021*\"kill\" + 0.019*\"power\" + 0.017*\"sister\" + '\n",
            "  '0.016*\"ring\" + 0.014*\"village\" + 0.013*\"wenwu\" + 0.012*\"find\" + 0.011*\"bus\" '\n",
            "  '+ 0.011*\"father\"'),\n",
            " (6,\n",
            "  '0.054*\"maybe\" + 0.043*\"direction\" + 0.037*\"score\" + 0.031*\"predictable\" + '\n",
            "  '0.017*\"blockbuster\" + 0.015*\"truth\" + 0.014*\"generally\" + 0.013*\"shame\" + '\n",
            "  '0.011*\"non\" + 0.011*\"setup\"'),\n",
            " (7,\n",
            "  '0.109*\"film\" + 0.029*\"also\" + 0.015*\"set\" + 0.015*\"introduce\" + 0.012*\"hit\" '\n",
            "  '+ 0.012*\"use\" + 0.010*\"role\" + 0.009*\"exposition\" + 0.009*\"standard\" + '\n",
            "  '0.009*\"include\"'),\n",
            " (8,\n",
            "  '0.065*\"movie\" + 0.028*\"good\" + 0.024*\"character\" + 0.023*\"film\" + '\n",
            "  '0.021*\"scene\" + 0.021*\"marvel\" + 0.019*\"great\" + 0.019*\"story\" + '\n",
            "  '0.018*\"action\" + 0.017*\"fight\"'),\n",
            " (9,\n",
            "  '0.017*\"less\" + 0.015*\"help\" + 0.014*\"important\" + 0.014*\"emotional\" + '\n",
            "  '0.013*\"character\" + 0.012*\"ring\" + 0.011*\"family\" + 0.010*\"classic\" + '\n",
            "  '0.010*\"deliver\" + 0.010*\"choreograph\"'),\n",
            " (10,\n",
            "  '0.038*\"new\" + 0.021*\"star\" + 0.020*\"big\" + 0.019*\"may\" + 0.018*\"year\" + '\n",
            "  '0.018*\"last\" + 0.015*\"leave\" + 0.014*\"performance\" + 0.014*\"hand\" + '\n",
            "  '0.013*\"lead\"'),\n",
            " (11,\n",
            "  '0.024*\"praise\" + 0.016*\"annoying\" + 0.015*\"note\" + 0.013*\"silly\" + '\n",
            "  '0.013*\"positive\" + 0.013*\"motivation\" + 0.012*\"later\" + 0.012*\"pure\" + '\n",
            "  '0.011*\"slay\" + 0.010*\"spend\"'),\n",
            " (12,\n",
            "  '0.020*\"obvious\" + 0.011*\"endgame\" + 0.011*\"attention\" + 0.010*\"baby\" + '\n",
            "  '0.010*\"ahead\" + 0.010*\"western\" + 0.010*\"whatsoever\" + 0.009*\"finale\" + '\n",
            "  '0.009*\"eastern\" + 0.008*\"war\"'),\n",
            " (13,\n",
            "  '0.018*\"sell\" + 0.015*\"budget\" + 0.015*\"major\" + 0.014*\"personal\" + '\n",
            "  '0.010*\"archery\" + 0.010*\"conflict\" + 0.010*\"match\" + 0.009*\"result\" + '\n",
            "  '0.009*\"surprisingly\" + 0.009*\"poorly\"')]\n"
          ]
        }
      ],
      "source": [
        "print(\"Maximum value of coherence for ascending order is: 0.3129 AT Topic Number 14\\n\")\n",
        "LDA_model = gensim.models.ldamodel.LdaModel(corpus=corpus, id2word=id2word, num_topics=14, random_state=100, update_every=1,\n",
        "                                            chunksize=100, passes=10, alpha='auto', per_word_topics=True)\n",
        "pprint(LDA_model.print_topics())"
      ]
    },
    {
      "cell_type": "code",
      "execution_count": 1,
      "metadata": {},
      "outputs": [
        {
          "data": {
            "text/plain": [
              "'\\nLDA Model\\n1) Final monster is boring\\n2) Highlight combine feathures\\n3) Woman learn usual problems\\n4) Better try but look bad\\n5) Dissapointed effort\\n6) Ring kill power of mother\\n7) Blokbuster score but shame\\n8) Film instroduce use of expostion\\n9) Marvel movie has great characters, story with fight scenes\\n10) Classic choregraphy with emotional characters\\n11) Big star with leading performance\\n12) Anoying and silly\\n13) endgame war got obvious attention\\n14) Results are surprisingly poor \\n'"
            ]
          },
          "execution_count": 1,
          "metadata": {},
          "output_type": "execute_result"
        }
      ],
      "source": [
        "\"\"\"\n",
        "LDA Model\n",
        "1) Final monster is boring\n",
        "2) Highlight combine feathures\n",
        "3) Woman learn usual problems\n",
        "4) Better try but look bad\n",
        "5) Dissapointed effort\n",
        "6) Ring kill power of mother\n",
        "7) Blokbuster score but shame\n",
        "8) Film instroduce use of expostion\n",
        "9) Marvel movie has great characters, story with fight scenes\n",
        "10) Classic choregraphy with emotional characters\n",
        "11) Big star with leading performance\n",
        "12) Anoying and silly\n",
        "13) endgame war got obvious attention\n",
        "14) Results are surprisingly poor \n",
        "\"\"\""
      ]
    },
    {
      "cell_type": "markdown",
      "metadata": {
        "id": "d5WazFJ3HJQD"
      },
      "source": [
        "## (2) (15 points) Generate K topics by using LSA, the number of topics K should be decided by the coherence score, then summarize what are the topics. You may refer the code here:\n",
        "\n",
        "https://www.datacamp.com/community/tutorials/discovering-hidden-topics-python"
      ]
    },
    {
      "cell_type": "code",
      "execution_count": 70,
      "metadata": {
        "id": "p8aEFWymHJQE"
      },
      "outputs": [],
      "source": [
        "def compute_lsa_coherence_values(dictionary, corpus, texts, limit, start=2, step=3):\n",
        "    \"\"\"\n",
        "    Input: \n",
        "    Dictionary of words freq --> dict\n",
        "    corpus of words --> list\n",
        "    reviews --> list\n",
        "    limit --> int\n",
        "    start --> int\n",
        "    step --> int\n",
        "    Func: find the coherence score for each set of topic numbers\n",
        "    Output: \n",
        "    model_list --> list: list of models\n",
        "    coherence_values --> float: score of coherence\n",
        "    \"\"\"\n",
        "    coherence_values = []\n",
        "    model_list = []\n",
        "    for num_topics in range(start, limit, step):\n",
        "        model = LsiModel(corpus=corpus, num_topics=num_topics, id2word=id2word)\n",
        "        model_list.append(model)\n",
        "        coherencemodel = CoherenceModel(model=model, texts=texts, dictionary=dictionary, coherence='c_v')\n",
        "        coherence_values.append(coherencemodel.get_coherence())\n",
        "\n",
        "    return model_list, coherence_values\n"
      ]
    },
    {
      "cell_type": "code",
      "execution_count": 71,
      "metadata": {
        "id": "NCqwSLtMHJQG"
      },
      "outputs": [],
      "source": [
        "LSA_model = LsiModel(corpus=corpus, id2word=id2word, chunksize=100)\n",
        "review_lsa = LSA_model[corpus]"
      ]
    },
    {
      "cell_type": "code",
      "execution_count": 72,
      "metadata": {
        "colab": {
          "base_uri": "https://localhost:8080/"
        },
        "id": "JsqmHU3JHJQH",
        "outputId": "3d8524c1-3bb5-4d0e-f078-d6c20e244804"
      },
      "outputs": [
        {
          "name": "stdout",
          "output_type": "stream",
          "text": [
            "LSA Coherence Score:  0.23793908340553266\n"
          ]
        }
      ],
      "source": [
        "coherence_model_lda = CoherenceModel(model=LSA_model, texts=lemmatize_reviews, dictionary=id2word, coherence='c_v') #initilize coherence model\n",
        "coherence_lda = coherence_model_lda.get_coherence() #get cohernece score\n",
        "print('LSA Coherence Score: ', coherence_lda)"
      ]
    },
    {
      "cell_type": "code",
      "execution_count": 74,
      "metadata": {
        "id": "x-9J7Q1IHJQK"
      },
      "outputs": [],
      "source": [
        "lsa_model_list, lsa_coherence_values = compute_lsa_coherence_values(dictionary=id2word, corpus=corpus, texts=lemmatize_reviews, start=2, limit=60, step=6)"
      ]
    },
    {
      "cell_type": "code",
      "execution_count": 75,
      "metadata": {
        "colab": {
          "base_uri": "https://localhost:8080/",
          "height": 282
        },
        "id": "Chzh9RgUMndS",
        "outputId": "a52fa3d3-3483-4085-c490-6d606572bbc1"
      },
      "outputs": [
        {
          "data": {
            "text/plain": [
              "[<matplotlib.lines.Line2D at 0x7fc836d9be10>]"
            ]
          },
          "execution_count": 75,
          "metadata": {},
          "output_type": "execute_result"
        },
        {
          "data": {
            "image/png": "[encoded data removed]",
            "text/plain": [
              "<Figure size 432x288 with 1 Axes>"
            ]
          },
          "metadata": {
            "needs_background": "light"
          },
          "output_type": "display_data"
        }
      ],
      "source": [
        "plt.plot(coherence_values)"
      ]
    },
    {
      "cell_type": "code",
      "execution_count": 77,
      "metadata": {
        "colab": {
          "base_uri": "https://localhost:8080/"
        },
        "id": "jm5oSbc9HJQL",
        "outputId": "bb885959-824e-4435-e3eb-73dfa9b95491"
      },
      "outputs": [
        {
          "name": "stdout",
          "output_type": "stream",
          "text": [
            "Topics Number= 2  has Coherence Value of 0.3306\n",
            "Topics Number= 8  has Coherence Value of 0.3418\n",
            "Topics Number= 14  has Coherence Value of 0.3253\n",
            "Topics Number= 20  has Coherence Value of 0.3351\n",
            "Topics Number= 26  has Coherence Value of 0.3126\n",
            "Topics Number= 32  has Coherence Value of 0.3135\n",
            "Topics Number= 38  has Coherence Value of 0.3038\n",
            "Topics Number= 44  has Coherence Value of 0.3008\n",
            "Topics Number= 50  has Coherence Value of 0.3033\n",
            "Topics Number= 56  has Coherence Value of 0.2993\n"
          ]
        }
      ],
      "source": [
        "for model, cv in zip(range(2, 60, 6), lsa_coherence_values):\n",
        "    print(\"Topics Number=\", model, \" has Coherence Value of\", round(cv, 4))"
      ]
    },
    {
      "cell_type": "code",
      "execution_count": 78,
      "metadata": {
        "colab": {
          "base_uri": "https://localhost:8080/"
        },
        "id": "wrwZEJfYHJQM",
        "outputId": "1301cb21-359c-417d-f653-46c12db91e8e"
      },
      "outputs": [
        {
          "name": "stdout",
          "output_type": "stream",
          "text": [
            "Maximum value of coherence for ascending order is: 0.3418 AT topic number 8\n",
            "\n",
            "[(0,\n",
            "  '0.479*\"movie\" + 0.357*\"film\" + 0.257*\"character\" + 0.199*\"good\" + '\n",
            "  '0.186*\"scene\" + 0.159*\"marvel\" + 0.155*\"action\" + 0.152*\"great\" + '\n",
            "  '0.148*\"also\" + 0.145*\"fight\"'),\n",
            " (1,\n",
            "  '0.697*\"movie\" + -0.617*\"film\" + -0.139*\"also\" + -0.129*\"character\" + '\n",
            "  '-0.122*\"well\" + -0.071*\"great\" + 0.067*\"marvel\" + 0.063*\"good\" + '\n",
            "  '0.063*\"watch\" + -0.056*\"take\"'),\n",
            " (2,\n",
            "  '-0.547*\"film\" + -0.290*\"movie\" + 0.239*\"character\" + 0.207*\"go\" + '\n",
            "  '0.178*\"also\" + 0.153*\"really\" + 0.129*\"would\" + -0.126*\"marvel\" + '\n",
            "  '0.124*\"ring\" + 0.120*\"find\"'),\n",
            " (3,\n",
            "  '0.619*\"good\" + 0.299*\"scene\" + -0.221*\"well\" + 0.203*\"fight\" + '\n",
            "  '-0.183*\"movie\" + 0.169*\"great\" + 0.166*\"also\" + -0.137*\"little\" + '\n",
            "  '-0.136*\"feel\" + -0.129*\"character\"'),\n",
            " (4,\n",
            "  '0.411*\"great\" + 0.313*\"really\" + 0.263*\"well\" + 0.246*\"character\" + '\n",
            "  '-0.233*\"film\" + -0.217*\"go\" + 0.167*\"action\" + 0.143*\"also\" + 0.121*\"scene\" '\n",
            "  '+ -0.115*\"good\"'),\n",
            " (5,\n",
            "  '-0.401*\"good\" + 0.386*\"scene\" + -0.351*\"marvel\" + -0.255*\"action\" + '\n",
            "  '-0.248*\"story\" + 0.216*\"fight\" + 0.184*\"feel\" + 0.173*\"film\" + '\n",
            "  '0.171*\"movie\" + -0.118*\"make\"'),\n",
            " (6,\n",
            "  '-0.504*\"really\" + 0.369*\"scene\" + 0.300*\"fight\" + 0.287*\"action\" + '\n",
            "  '-0.166*\"see\" + 0.166*\"also\" + -0.158*\"go\" + 0.140*\"well\" + -0.118*\"feel\" + '\n",
            "  '-0.117*\"think\"'),\n",
            " (7,\n",
            "  '0.408*\"great\" + -0.377*\"also\" + 0.288*\"fight\" + 0.255*\"story\" + '\n",
            "  '-0.245*\"character\" + -0.194*\"movie\" + 0.153*\"really\" + -0.143*\"good\" + '\n",
            "  '0.134*\"feel\" + -0.129*\"action\"')]\n"
          ]
        }
      ],
      "source": [
        "print(\"Maximum value of coherence for ascending order is: 0.3418 AT topic number 8\\n\")\n",
        "pprint(lsa_model_list[1].print_topics())"
      ]
    },
    {
      "cell_type": "code",
      "execution_count": null,
      "metadata": {},
      "outputs": [],
      "source": [
        "\"\"\"\n",
        "LSA Model:\n",
        "1) Marverl movies has great action scenes\n",
        "2) Marvel movie with great characters\n",
        "3) Film charcter are really good\n",
        "4) Good Fighting scenes\n",
        "5) Great characters with great action scenes\n",
        "6) Marvel film good action scene and story\n",
        "7) Great fighting scenes and really good story\n",
        "\"\"\""
      ]
    },
    {
      "cell_type": "markdown",
      "metadata": {
        "id": "rFwSxjFbHJQW"
      },
      "source": [
        "## (3) (10 points) Compare the results generated by the two topic modeling algorithms, which one is better? You should explain the reasons in details."
      ]
    },
    {
      "cell_type": "code",
      "execution_count": null,
      "metadata": {
        "id": "no2OBIU-HJQY"
      },
      "outputs": [],
      "source": [
        "# Write your answer here (no code needed for this question)\n",
        "\"\"\"\n",
        "LSA or you can say LSI is a much simple and fast method as compared to LDA. \n",
        "Purpose of both of them is same is to collect set of topics that can best describe the collections of sentences\n",
        "But!\n",
        "LSA is most simpller and only focus of frequency of words rether then there order. Although in some cases it can be a benifit but\n",
        "in our case this is not as such in favour of benifit. \n",
        "LDA is a bit complex and time taking algorithem but it do a deep analysis of the system and consider words as a sequence of words. \n",
        "and in our case it's seem a bit good as compared to LSA/LSI\n",
        "Coherence: LDA has high coherence value then LSA/LSI\n",
        "Topics: LDA gethered more useful topics and keyword collection then LSA/LSI\n",
        "Coherency: LSA topics are more coherent to each other while LDA topics are more diverse\n",
        "Speed: LSA/LSI is much faster\n",
        "Text: the sorted text collected by LDA is better then that collected with LSA/LSI\n",
        "\"\"\""
      ]
    }
  ],
  "metadata": {
    "colab": {
      "name": "In_class_exercise_04.ipynb",
      "provenance": []
    },
    "interpreter": {
      "hash": "11f1dc213e07634baa4c5c321dec03c05dafae643c50f20e6d1a492290c05dc2"
    },
    "kernelspec": {
      "display_name": "Python 3.9.6 64-bit",
      "name": "python3"
    },
    "language_info": {
      "codemirror_mode": {
        "name": "ipython",
        "version": 3
      },
      "file_extension": ".py",
      "mimetype": "text/x-python",
      "name": "python",
      "nbconvert_exporter": "python",
      "pygments_lexer": "ipython3",
      "version": "3.10.0"
    }
  },
  "nbformat": 4,
  "nbformat_minor": 0
}
